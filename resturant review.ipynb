{
 "cells": [
  {
   "cell_type": "code",
   "execution_count": 3,
   "id": "f494da52",
   "metadata": {},
   "outputs": [
    {
     "name": "stdout",
     "output_type": "stream",
     "text": [
      "Average Rating: 2.66637001361114\n",
      "Sentiment Counts:\n",
      " Neutral     3737\n",
      "Positive    3480\n",
      "Negative     186\n",
      "Name: Sentiment, dtype: int64\n",
      "Most Common Positive Words: [('Good', 3179), ('Very', 1079), ('Excellent', 301)]\n",
      "Most Common Negative Words: [('Poor', 186)]\n",
      "Data saved to restaurant_reviews_analysis.xlsx\n"
     ]
    }
   ],
   "source": [
    "# Step 1: Importing necessary libraries\n",
    "import pandas as pd\n",
    "from collections import Counter\n",
    "\n",
    "# Step 2: Loading the dataset\n",
    "file_path = (r\"C:\\Users\\Tanisha\\Downloads\\Dataset .csv\")# Update this with the actual path to your CSV file\n",
    "data = pd.read_csv(file_path)\n",
    "\n",
    "# Step 3: Mapping rating text to sentiments\n",
    "sentiment_mapping = {\n",
    "    'Excellent': 'Positive',\n",
    "    'Very Good': 'Positive',\n",
    "    'Good': 'Positive',\n",
    "    'Average': 'Neutral',\n",
    "    'Poor': 'Negative',\n",
    "    'Bad': 'Negative',\n",
    "}\n",
    "\n",
    "# Apply sentiment mapping\n",
    "data['Sentiment'] = data['Rating text'].map(sentiment_mapping)\n",
    "\n",
    "# Step 4: Calculating the average rating\n",
    "average_rating = data['Aggregate rating'].mean()\n",
    "\n",
    "# Step 5: Counting the frequency of positive and negative reviews\n",
    "sentiment_counts = data['Sentiment'].value_counts()\n",
    "\n",
    "# Step 6: Extracting most common positive and negative review words\n",
    "positive_reviews = data[data['Sentiment'] == 'Positive']['Rating text']\n",
    "negative_reviews = data[data['Sentiment'] == 'Negative']['Rating text']\n",
    "\n",
    "# Count keyword frequency in positive and negative reviews\n",
    "positive_words = Counter(\" \".join(positive_reviews).split()).most_common()\n",
    "negative_words = Counter(\" \".join(negative_reviews).split()).most_common()\n",
    "\n",
    "# Step 7: Displaying results\n",
    "print(\"Average Rating:\", average_rating)\n",
    "print(\"Sentiment Counts:\\n\", sentiment_counts)\n",
    "print(\"Most Common Positive Words:\", positive_words[:5])\n",
    "print(\"Most Common Negative Words:\", negative_words[:5])\n",
    "\n",
    "# Step 8: Saving the organized data into a spreadsheet\n",
    "output_file_path = 'restaurant_reviews_analysis.xlsx'  # Update this with the desired file path\n",
    "organized_data = data[['Restaurant Name', 'City', 'Aggregate rating', 'Rating text', 'Sentiment']]\n",
    "organized_data.to_excel(output_file_path, index=False)\n",
    "print(f\"Data saved to {output_file_path}\")"
   ]
  },
  {
   "cell_type": "code",
   "execution_count": null,
   "id": "ec4ec694",
   "metadata": {},
   "outputs": [],
   "source": []
  }
 ],
 "metadata": {
  "kernelspec": {
   "display_name": "Python 3 (ipykernel)",
   "language": "python",
   "name": "python3"
  },
  "language_info": {
   "codemirror_mode": {
    "name": "ipython",
    "version": 3
   },
   "file_extension": ".py",
   "mimetype": "text/x-python",
   "name": "python",
   "nbconvert_exporter": "python",
   "pygments_lexer": "ipython3",
   "version": "3.11.3"
  }
 },
 "nbformat": 4,
 "nbformat_minor": 5
}
